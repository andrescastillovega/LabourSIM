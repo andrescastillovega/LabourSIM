{
 "cells": [
  {
   "cell_type": "code",
   "execution_count": 1,
   "metadata": {},
   "outputs": [],
   "source": [
    "import numpyro\n",
    "from numpyro.infer import MCMC, NUTS, Predictive\n",
    "import numpyro.distributions as dist\n",
    "import jax\n",
    "from jax import random\n",
    "from jax import numpy as jnp\n",
    "import numpy as np\n",
    "import pandas as pd\n",
    "import seaborn as sns\n",
    "import matplotlib.pyplot as plt\n",
    "import arviz as az\n",
    "\n",
    "import bambi as bmb"
   ]
  },
  {
   "cell_type": "code",
   "execution_count": 2,
   "metadata": {},
   "outputs": [],
   "source": [
    "numpyro.set_platform(\"cpu\")\n",
    "numpyro.set_host_device_count(10)"
   ]
  },
  {
   "cell_type": "markdown",
   "metadata": {},
   "source": [
    "# Model"
   ]
  },
  {
   "cell_type": "code",
   "execution_count": 58,
   "metadata": {},
   "outputs": [
    {
     "data": {
      "text/plain": [
       "array([2, 0, 2, 2, 0, 0, 2, 1, 2, 2])"
      ]
     },
     "execution_count": 58,
     "metadata": {},
     "output_type": "execute_result"
    }
   ],
   "source": [
    "# Seed for reproducibility\n",
    "np.random.seed(42)\n",
    "\n",
    "# Number of data points\n",
    "n = 1000\n",
    "\n",
    "# Generate synthetic data for predictor X\n",
    "X = np.random.choice([0,1,2], n)\n",
    "Z = np.random.choice([0,1,2,3,4,5,6,7,8,9,10], n)\n",
    "\n",
    "X[:10]  # Display the first 10 values of X for reference"
   ]
  },
  {
   "cell_type": "code",
   "execution_count": 59,
   "metadata": {},
   "outputs": [
    {
     "data": {
      "text/plain": [
       "array([ 26903.1860743 ,  32859.62567444,  89321.72336081,  19930.37043823,\n",
       "        18033.74492783,  24343.00942441,  19930.37043823,  22026.46579481,\n",
       "       120571.71498645,  66171.16016838])"
      ]
     },
     "execution_count": 59,
     "metadata": {},
     "output_type": "execute_result"
    }
   ],
   "source": [
    "# Define alpha and beta\n",
    "alpha = 11\n",
    "beta_x = 0.5\n",
    "beta_z = -0.3\n",
    "\n",
    "# Compute the expected value of Y for each X using the linear predictor\n",
    "E_Y_given_X = np.exp(alpha + beta_x * X + beta_z * Z)\n",
    "\n",
    "E_Y_given_X[:10]  # Display the first 10 expected values of Y for reference"
   ]
  },
  {
   "cell_type": "code",
   "execution_count": 60,
   "metadata": {},
   "outputs": [
    {
     "data": {
      "text/plain": [
       "array([ 26560.66428853,  32905.38831683,  89515.47235922,  19734.16889256,\n",
       "        18147.4039454 ,  24533.91099395,  19981.27842336,  22219.44367446,\n",
       "       120457.91317828,  66029.20380281])"
      ]
     },
     "execution_count": 60,
     "metadata": {},
     "output_type": "execute_result"
    }
   ],
   "source": [
    "# Generate gamma-distributed Y values\n",
    "scale = 1  # Scale parameter\n",
    "Y = np.random.gamma(E_Y_given_X, scale)\n",
    "\n",
    "Y[:10]  # Display the first 10 values of Y for reference"
   ]
  },
  {
   "cell_type": "code",
   "execution_count": 61,
   "metadata": {},
   "outputs": [
    {
     "data": {
      "text/plain": [
       "36843.00941488199"
      ]
     },
     "execution_count": 61,
     "metadata": {},
     "output_type": "execute_result"
    }
   ],
   "source": [
    "(Y / scale).mean()"
   ]
  },
  {
   "cell_type": "code",
   "execution_count": 62,
   "metadata": {},
   "outputs": [
    {
     "data": {
      "text/plain": [
       "<Axes: ylabel='Density'>"
      ]
     },
     "execution_count": 62,
     "metadata": {},
     "output_type": "execute_result"
    },
    {
     "data": {
      "image/png": "[encoded data removed]",
      "text/plain": [
       "<Figure size 640x480 with 1 Axes>"
      ]
     },
     "metadata": {},
     "output_type": "display_data"
    }
   ],
   "source": [
    "sns.kdeplot(Y)\n",
    "sns.kdeplot(Y/scale)"
   ]
  },
  {
   "cell_type": "markdown",
   "metadata": {},
   "source": [
    "## Statsmodels"
   ]
  },
  {
   "cell_type": "code",
   "execution_count": 63,
   "metadata": {},
   "outputs": [
    {
     "name": "stderr",
     "output_type": "stream",
     "text": [
      "/home/avena/miniconda3/envs/bambi/lib/python3.11/site-packages/statsmodels/genmod/families/links.py:13: FutureWarning: The log link alias is deprecated. Use Log instead. The log link alias will be removed after the 0.15.0 release.\n",
      "  warnings.warn(\n"
     ]
    }
   ],
   "source": [
    "import statsmodels.api as sm\n",
    "\n",
    "# Add a constant to X to account for the intercept\n",
    "X_with_const = sm.add_constant(np.stack([X, Z], axis=1))\n",
    "\n",
    "# Fit a Gamma GLM\n",
    "gamma_glm = sm.GLM(Y/scale, X_with_const, family=sm.families.Gamma(link=sm.families.links.log())).fit()"
   ]
  },
  {
   "cell_type": "code",
   "execution_count": 64,
   "metadata": {},
   "outputs": [
    {
     "data": {
      "text/html": [
       "<table class=\"simpletable\">\n",
       "<caption>Generalized Linear Model Regression Results</caption>\n",
       "<tr>\n",
       "  <th>Dep. Variable:</th>           <td>y</td>        <th>  No. Observations:  </th>   <td>  1000</td>  \n",
       "</tr>\n",
       "<tr>\n",
       "  <th>Model:</th>                  <td>GLM</td>       <th>  Df Residuals:      </th>   <td>   997</td>  \n",
       "</tr>\n",
       "<tr>\n",
       "  <th>Model Family:</th>          <td>Gamma</td>      <th>  Df Model:          </th>   <td>     2</td>  \n",
       "</tr>\n",
       "<tr>\n",
       "  <th>Link Function:</th>          <td>log</td>       <th>  Scale:             </th> <td>7.4317e-05</td>\n",
       "</tr>\n",
       "<tr>\n",
       "  <th>Method:</th>                <td>IRLS</td>       <th>  Log-Likelihood:    </th>  <td> -6659.6</td> \n",
       "</tr>\n",
       "<tr>\n",
       "  <th>Date:</th>            <td>Mon, 04 Sep 2023</td> <th>  Deviance:          </th>  <td>0.074179</td> \n",
       "</tr>\n",
       "<tr>\n",
       "  <th>Time:</th>                <td>22:10:08</td>     <th>  Pearson chi2:      </th>   <td>0.0741</td>  \n",
       "</tr>\n",
       "<tr>\n",
       "  <th>No. Iterations:</th>          <td>8</td>        <th>  Pseudo R-squ. (CS):</th>   <td> 1.000</td>  \n",
       "</tr>\n",
       "<tr>\n",
       "  <th>Covariance Type:</th>     <td>nonrobust</td>    <th>                     </th>      <td> </td>    \n",
       "</tr>\n",
       "</table>\n",
       "<table class=\"simpletable\">\n",
       "<tr>\n",
       "    <td></td>       <th>coef</th>     <th>std err</th>      <th>z</th>      <th>P>|z|</th>  <th>[0.025</th>    <th>0.975]</th>  \n",
       "</tr>\n",
       "<tr>\n",
       "  <th>const</th> <td>   11.0000</td> <td>    0.001</td> <td>  1.8e+04</td> <td> 0.000</td> <td>   10.999</td> <td>   11.001</td>\n",
       "</tr>\n",
       "<tr>\n",
       "  <th>x1</th>    <td>    0.5000</td> <td>    0.000</td> <td> 1502.183</td> <td> 0.000</td> <td>    0.499</td> <td>    0.501</td>\n",
       "</tr>\n",
       "<tr>\n",
       "  <th>x2</th>    <td>   -0.3001</td> <td> 8.57e-05</td> <td>-3502.716</td> <td> 0.000</td> <td>   -0.300</td> <td>   -0.300</td>\n",
       "</tr>\n",
       "</table>"
      ],
      "text/latex": [
       "\\begin{center}\n",
       "\\begin{tabular}{lclc}\n",
       "\\toprule\n",
       "\\textbf{Dep. Variable:}   &        y         & \\textbf{  No. Observations:  } &     1000    \\\\\n",
       "\\textbf{Model:}           &       GLM        & \\textbf{  Df Residuals:      } &      997    \\\\\n",
       "\\textbf{Model Family:}    &      Gamma       & \\textbf{  Df Model:          } &        2    \\\\\n",
       "\\textbf{Link Function:}   &       log        & \\textbf{  Scale:             } & 7.4317e-05  \\\\\n",
       "\\textbf{Method:}          &       IRLS       & \\textbf{  Log-Likelihood:    } &   -6659.6   \\\\\n",
       "\\textbf{Date:}            & Mon, 04 Sep 2023 & \\textbf{  Deviance:          } &  0.074179   \\\\\n",
       "\\textbf{Time:}            &     22:10:08     & \\textbf{  Pearson chi2:      } &   0.0741    \\\\\n",
       "\\textbf{No. Iterations:}  &        8         & \\textbf{  Pseudo R-squ. (CS):} &    1.000    \\\\\n",
       "\\textbf{Covariance Type:} &    nonrobust     & \\textbf{                     } &             \\\\\n",
       "\\bottomrule\n",
       "\\end{tabular}\n",
       "\\begin{tabular}{lcccccc}\n",
       "               & \\textbf{coef} & \\textbf{std err} & \\textbf{z} & \\textbf{P$> |$z$|$} & \\textbf{[0.025} & \\textbf{0.975]}  \\\\\n",
       "\\midrule\n",
       "\\textbf{const} &      11.0000  &        0.001     &   1.8e+04  &         0.000        &       10.999    &       11.001     \\\\\n",
       "\\textbf{x1}    &       0.5000  &        0.000     &  1502.183  &         0.000        &        0.499    &        0.501     \\\\\n",
       "\\textbf{x2}    &      -0.3001  &     8.57e-05     & -3502.716  &         0.000        &       -0.300    &       -0.300     \\\\\n",
       "\\bottomrule\n",
       "\\end{tabular}\n",
       "%\\caption{Generalized Linear Model Regression Results}\n",
       "\\end{center}"
      ],
      "text/plain": [
       "<class 'statsmodels.iolib.summary.Summary'>\n",
       "\"\"\"\n",
       "                 Generalized Linear Model Regression Results                  \n",
       "==============================================================================\n",
       "Dep. Variable:                      y   No. Observations:                 1000\n",
       "Model:                            GLM   Df Residuals:                      997\n",
       "Model Family:                   Gamma   Df Model:                            2\n",
       "Link Function:                    log   Scale:                      7.4317e-05\n",
       "Method:                          IRLS   Log-Likelihood:                -6659.6\n",
       "Date:                Mon, 04 Sep 2023   Deviance:                     0.074179\n",
       "Time:                        22:10:08   Pearson chi2:                   0.0741\n",
       "No. Iterations:                     8   Pseudo R-squ. (CS):              1.000\n",
       "Covariance Type:            nonrobust                                         \n",
       "==============================================================================\n",
       "                 coef    std err          z      P>|z|      [0.025      0.975]\n",
       "------------------------------------------------------------------------------\n",
       "const         11.0000      0.001    1.8e+04      0.000      10.999      11.001\n",
       "x1             0.5000      0.000   1502.183      0.000       0.499       0.501\n",
       "x2            -0.3001   8.57e-05  -3502.716      0.000      -0.300      -0.300\n",
       "==============================================================================\n",
       "\"\"\""
      ]
     },
     "execution_count": 64,
     "metadata": {},
     "output_type": "execute_result"
    }
   ],
   "source": [
    "gamma_glm.summary()"
   ]
  },
  {
   "cell_type": "markdown",
   "metadata": {},
   "source": [
    "## Numpyro"
   ]
  },
  {
   "cell_type": "code",
   "execution_count": 67,
   "metadata": {},
   "outputs": [
    {
     "data": {
      "application/vnd.jupyter.widget-view+json": {
       "model_id": "8c1dfcda02e747d785af6251d6dea394",
       "version_major": 2,
       "version_minor": 0
      },
      "text/plain": [
       "  0%|          | 0/6000 [00:00<?, ?it/s]"
      ]
     },
     "metadata": {},
     "output_type": "display_data"
    },
    {
     "data": {
      "application/vnd.jupyter.widget-view+json": {
       "model_id": "c9c91a022e764cd4ae8d77230be5cd84",
       "version_major": 2,
       "version_minor": 0
      },
      "text/plain": [
       "  0%|          | 0/6000 [00:00<?, ?it/s]"
      ]
     },
     "metadata": {},
     "output_type": "display_data"
    },
    {
     "data": {
      "application/vnd.jupyter.widget-view+json": {
       "model_id": "fc69c2e5deb440869a07559ac79bd585",
       "version_major": 2,
       "version_minor": 0
      },
      "text/plain": [
       "  0%|          | 0/6000 [00:00<?, ?it/s]"
      ]
     },
     "metadata": {},
     "output_type": "display_data"
    },
    {
     "data": {
      "application/vnd.jupyter.widget-view+json": {
       "model_id": "e1a4f095f2fd4963a21861bd5ecaee12",
       "version_major": 2,
       "version_minor": 0
      },
      "text/plain": [
       "  0%|          | 0/6000 [00:00<?, ?it/s]"
      ]
     },
     "metadata": {},
     "output_type": "display_data"
    },
    {
     "name": "stdout",
     "output_type": "stream",
     "text": [
      "\n",
      "                mean       std    median      5.0%     95.0%     n_eff     r_hat\n",
      "     alpha     11.00      0.02     11.00     10.96     11.04   3407.71      1.00\n",
      "    beta_x      0.50      0.01      0.50      0.48      0.52   4104.66      1.00\n",
      "    beta_z     -0.30      0.00     -0.30     -0.31     -0.30   4033.07      1.00\n",
      "     shape      9.98      0.02      9.99      9.95     10.00   6430.36      1.00\n",
      "\n",
      "Number of divergences: 0\n"
     ]
    }
   ],
   "source": [
    "def gamma_glm(x, z):\n",
    "    alpha = numpyro.sample(\"alpha\", dist.Normal(9, 1))\n",
    "    beta_x = numpyro.sample(\"beta_x\", dist.Normal(0, 1))\n",
    "    beta_z = numpyro.sample(\"beta_z\", dist.Normal(0, 1))\n",
    "    shape = numpyro.sample(\"shape\", dist.Uniform(0,10))\n",
    "\n",
    "    mu = jnp.exp(alpha + beta_x * x + beta_z * z)\n",
    "    rate = shape / mu    \n",
    "    \n",
    "    numpyro.sample(\"obs\", dist.Gamma(concentration=shape, rate=rate), obs=Y)\n",
    "\n",
    "# Run MCMC as before\n",
    "rng_key = random.PRNGKey(0)\n",
    "kernel = NUTS(gamma_glm)\n",
    "mcmc = MCMC(kernel, num_warmup=4000, num_samples=2000, num_chains=4, chain_method='parallel')\n",
    "mcmc.run(rng_key, X, Z)\n",
    "mcmc.print_summary(exclude_deterministic=False)"
   ]
  },
  {
   "cell_type": "code",
   "execution_count": 68,
   "metadata": {},
   "outputs": [
    {
     "data": {
      "text/html": [
       "<div>\n",
       "<style scoped>\n",
       "    .dataframe tbody tr th:only-of-type {\n",
       "        vertical-align: middle;\n",
       "    }\n",
       "\n",
       "    .dataframe tbody tr th {\n",
       "        vertical-align: top;\n",
       "    }\n",
       "\n",
       "    .dataframe thead th {\n",
       "        text-align: right;\n",
       "    }\n",
       "</style>\n",
       "<table border=\"1\" class=\"dataframe\">\n",
       "  <thead>\n",
       "    <tr style=\"text-align: right;\">\n",
       "      <th></th>\n",
       "      <th>mean</th>\n",
       "      <th>sd</th>\n",
       "      <th>hdi_3%</th>\n",
       "      <th>hdi_97%</th>\n",
       "      <th>mcse_mean</th>\n",
       "      <th>mcse_sd</th>\n",
       "      <th>ess_bulk</th>\n",
       "      <th>ess_tail</th>\n",
       "      <th>r_hat</th>\n",
       "    </tr>\n",
       "  </thead>\n",
       "  <tbody>\n",
       "    <tr>\n",
       "      <th>alpha</th>\n",
       "      <td>10.99876</td>\n",
       "      <td>0.02235</td>\n",
       "      <td>10.95689</td>\n",
       "      <td>11.04035</td>\n",
       "      <td>0.00038</td>\n",
       "      <td>0.00027</td>\n",
       "      <td>3409.80431</td>\n",
       "      <td>4093.16162</td>\n",
       "      <td>1.00163</td>\n",
       "    </tr>\n",
       "    <tr>\n",
       "      <th>beta_x</th>\n",
       "      <td>0.50047</td>\n",
       "      <td>0.01231</td>\n",
       "      <td>0.47856</td>\n",
       "      <td>0.52444</td>\n",
       "      <td>0.00019</td>\n",
       "      <td>0.00014</td>\n",
       "      <td>4126.18801</td>\n",
       "      <td>4732.02235</td>\n",
       "      <td>1.00044</td>\n",
       "    </tr>\n",
       "    <tr>\n",
       "      <th>beta_z</th>\n",
       "      <td>-0.29988</td>\n",
       "      <td>0.00312</td>\n",
       "      <td>-0.30571</td>\n",
       "      <td>-0.29396</td>\n",
       "      <td>0.00005</td>\n",
       "      <td>0.00003</td>\n",
       "      <td>4063.72206</td>\n",
       "      <td>4428.74031</td>\n",
       "      <td>1.00096</td>\n",
       "    </tr>\n",
       "    <tr>\n",
       "      <th>shape</th>\n",
       "      <td>9.97990</td>\n",
       "      <td>0.02012</td>\n",
       "      <td>9.94347</td>\n",
       "      <td>10.00000</td>\n",
       "      <td>0.00025</td>\n",
       "      <td>0.00018</td>\n",
       "      <td>3973.20055</td>\n",
       "      <td>2467.29545</td>\n",
       "      <td>1.00077</td>\n",
       "    </tr>\n",
       "  </tbody>\n",
       "</table>\n",
       "</div>"
      ],
      "text/plain": [
       "            mean       sd    hdi_3%   hdi_97%  mcse_mean  mcse_sd    ess_bulk  \\\n",
       "alpha   10.99876  0.02235  10.95689  11.04035    0.00038  0.00027  3409.80431   \n",
       "beta_x   0.50047  0.01231   0.47856   0.52444    0.00019  0.00014  4126.18801   \n",
       "beta_z  -0.29988  0.00312  -0.30571  -0.29396    0.00005  0.00003  4063.72206   \n",
       "shape    9.97990  0.02012   9.94347  10.00000    0.00025  0.00018  3973.20055   \n",
       "\n",
       "          ess_tail    r_hat  \n",
       "alpha   4093.16162  1.00163  \n",
       "beta_x  4732.02235  1.00044  \n",
       "beta_z  4428.74031  1.00096  \n",
       "shape   2467.29545  1.00077  "
      ]
     },
     "execution_count": 68,
     "metadata": {},
     "output_type": "execute_result"
    }
   ],
   "source": [
    "az.summary(az.from_numpyro(mcmc), round_to=5)"
   ]
  }
 ],
 "metadata": {
  "kernelspec": {
   "display_name": "bambi",
   "language": "python",
   "name": "python3"
  },
  "language_info": {
   "codemirror_mode": {
    "name": "ipython",
    "version": 3
   },
   "file_extension": ".py",
   "mimetype": "text/x-python",
   "name": "python",
   "nbconvert_exporter": "python",
   "pygments_lexer": "ipython3",
   "version": "3.11.0"
  },
  "orig_nbformat": 4
 },
 "nbformat": 4,
 "nbformat_minor": 2
}
