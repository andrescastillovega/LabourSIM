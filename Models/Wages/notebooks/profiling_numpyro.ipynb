{
 "cells": [
  {
   "cell_type": "code",
   "execution_count": 3,
   "metadata": {},
   "outputs": [],
   "source": [
    "import numpy as np\n",
    "\n",
    "# Generate some synthetic data\n",
    "np.random.seed(0)\n",
    "N = 100  # number of data points\n",
    "X = np.random.randn(N, 1)\n",
    "true_coef = 2.5\n",
    "y = true_coef * X + 0.5 * np.random.randn(N, 1)\n"
   ]
  },
  {
   "cell_type": "code",
   "execution_count": 4,
   "metadata": {},
   "outputs": [],
   "source": [
    "import numpyro\n",
    "import numpyro.distributions as dist\n",
    "\n",
    "def linear_regression(X, y):\n",
    "    N, D = X.shape\n",
    "    beta = numpyro.sample(\"beta\", dist.Normal(0, 1))\n",
    "    sigma = numpyro.sample(\"sigma\", dist.HalfCauchy(1.0))\n",
    "    mu = beta * X\n",
    "    with numpyro.plate(\"data\", N):\n",
    "        numpyro.sample(\"obs\", dist.Normal(mu, sigma), obs=y)"
   ]
  },
  {
   "cell_type": "code",
   "execution_count": 9,
   "metadata": {},
   "outputs": [
    {
     "name": "stderr",
     "output_type": "stream",
     "text": [
      "100%|██████████| 2000/2000 [00:02<00:00, 785.53it/s, init loss: 83.1471, avg. loss [1901-2000]: 20.9685] \n"
     ]
    }
   ],
   "source": [
    "from jax import random\n",
    "import jax.numpy as jnp\n",
    "import numpyro\n",
    "import numpyro.distributions as dist\n",
    "from numpyro.distributions import constraints\n",
    "from numpyro.infer import Predictive, SVI, Trace_ELBO\n",
    "\n",
    "def model(data):\n",
    "    f = numpyro.sample(\"latent_fairness\", dist.Beta(10, 10))\n",
    "    with numpyro.plate(\"N\", data.shape[0] if data is not None else 10):\n",
    "        numpyro.sample(\"obs\", dist.Bernoulli(f), obs=data)\n",
    "\n",
    "def guide(data):\n",
    "    alpha_q = numpyro.param(\"alpha_q\", 15., constraint=constraints.positive)\n",
    "    beta_q = numpyro.param(\"beta_q\", lambda rng_key: random.exponential(rng_key),\n",
    "                           constraint=constraints.positive)\n",
    "    numpyro.sample(\"latent_fairness\", dist.Beta(alpha_q, beta_q))\n",
    "\n",
    "data = jnp.concatenate([jnp.ones(6), jnp.zeros(4)])\n",
    "optimizer = numpyro.optim.Adam(step_size=0.0005)\n",
    "svi = SVI(model, guide, optimizer, loss=Trace_ELBO())\n",
    "svi_result = svi.run(random.PRNGKey(0), 2000, data)\n",
    "params = svi_result.params\n",
    "inferred_mean = params[\"alpha_q\"] / (params[\"alpha_q\"] + params[\"beta_q\"])\n",
    "# use guide to make predictive\n",
    "predictive = Predictive(model, guide=guide, params=params, num_samples=1000)\n",
    "samples = predictive(random.PRNGKey(1), data=None)\n",
    "# get posterior samples\n",
    "predictive = Predictive(guide, params=params, num_samples=1000)\n",
    "posterior_samples = predictive(random.PRNGKey(1), data=None)\n",
    "# use posterior samples to make predictive\n",
    "predictive = Predictive(model, posterior_samples, params=params, num_samples=1000)\n",
    "samples = predictive(random.PRNGKey(1), data=None)\n"
   ]
  }
 ],
 "metadata": {
  "kernelspec": {
   "display_name": "numpyro",
   "language": "python",
   "name": "python3"
  },
  "language_info": {
   "codemirror_mode": {
    "name": "ipython",
    "version": 3
   },
   "file_extension": ".py",
   "mimetype": "text/x-python",
   "name": "python",
   "nbconvert_exporter": "python",
   "pygments_lexer": "ipython3",
   "version": "3.11.5"
  },
  "orig_nbformat": 4
 },
 "nbformat": 4,
 "nbformat_minor": 2
}
